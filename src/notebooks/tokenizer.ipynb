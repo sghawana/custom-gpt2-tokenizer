{
 "cells": [
  {
   "cell_type": "code",
   "execution_count": 82,
   "metadata": {},
   "outputs": [],
   "source": [
    "import torch\n",
    "import heapq\n",
    "\n",
    "def merge_tokens(tokens: torch.Tensor, pair: tuple[int, int], new_token: int) -> torch.Tensor:\n",
    "\n",
    "    pair_mask = (tokens[:-1] == pair[0]) & (tokens[1:] == pair[1])\n",
    "    num_pairs = pair_mask.sum().item()\n",
    "    new_tokens = []\n",
    "    i = 0\n",
    "    while i < len(tokens):\n",
    "        if i < len(tokens) - 1 and (tokens[i].item(), tokens[i + 1].item()) == pair:\n",
    "            new_tokens.append(new_token)\n",
    "            i += 2 \n",
    "        else:\n",
    "            new_tokens.append(tokens[i].item())\n",
    "            i += 1\n",
    "    return torch.tensor(new_tokens, dtype=tokens.dtype, device=tokens.device)\n",
    "\n",
    "\n",
    "def unmerge_tokens(tokens: torch.Tensor, pair: tuple[int, int], new_token: int) -> torch.Tensor:\n",
    "    \n",
    "    pair_tensor = torch.tensor(pair, dtype=tokens.dtype, device=tokens.device)\n",
    "    mask = tokens == new_token\n",
    "    num_pairs = mask.sum().item()\n",
    "    \n",
    "    expanded_tokens = torch.empty(tokens.size(0) + num_pairs, dtype=tokens.dtype, device=tokens.device)\n",
    "    expanded_tokens_index = 0\n",
    "    for i in range(tokens.size(0)):\n",
    "        if mask[i]:\n",
    "            expanded_tokens[expanded_tokens_index] = pair_tensor[0]\n",
    "            expanded_tokens[expanded_tokens_index + 1] = pair_tensor[1]\n",
    "            expanded_tokens_index += 2\n",
    "        else:\n",
    "            expanded_tokens[expanded_tokens_index] = tokens[i]\n",
    "            expanded_tokens_index += 1\n",
    "    \n",
    "    return expanded_tokens\n",
    "\n",
    "\n",
    "def get_token_pair_counts(tokens: torch.Tensor) -> dict[tuple[int, int], int]:\n",
    "    pairs = torch.stack((tokens[:-1], tokens[1:]), dim=1)\n",
    "    pairs_tuple = [tuple(pair.tolist()) for pair in pairs]\n",
    "    \n",
    "    token_pair_counts = {}\n",
    "    for pair in pairs_tuple:\n",
    "        if pair in token_pair_counts:\n",
    "            token_pair_counts[pair] += 1\n",
    "        else:\n",
    "            token_pair_counts[pair] = 1\n",
    "\n",
    "    return token_pair_counts\n",
    "\n",
    "def generate_merges(tokens: torch.Tensor, num_merges: int) -> dict[tuple[int, int], int]:\n",
    "    merges = {}\n",
    "    i = 256\n",
    "    count = 0\n",
    "    pair_count = get_token_pair_counts(tokens)\n",
    "    max_heap = [(-count, pair) for pair, count in pair_count.items()]\n",
    "    heapq.heapify(max_heap)\n",
    "    \n",
    "    while count < num_merges and max_heap:\n",
    "        neg_count, merge_pair = heapq.heappop(max_heap)\n",
    "        merge_pair = tuple(merge_pair)\n",
    "        tokens = merge_tokens(tokens, merge_pair, i)\n",
    "        merges[merge_pair] = i\n",
    "        i += 1\n",
    "        count += 1\n",
    "        pair_count = get_token_pair_counts(tokens)\n",
    "        max_heap = [(-count, pair) for pair, count in pair_count.items()]\n",
    "        heapq.heapify(max_heap)\n",
    "    \n",
    "    return merges"
   ]
  },
  {
   "cell_type": "code",
   "execution_count": 76,
   "metadata": {},
   "outputs": [],
   "source": [
    "import os\n",
    "import pickle\n",
    "\n",
    "\n",
    "class Tokenizer:\n",
    "    def __init__(self) -> None:\n",
    "        self.vocab = None\n",
    "        self.special = None\n",
    "        self.merges = None\n",
    "        self.device = torch.device('mps' if torch.backends.mps.is_available() else 'cpu')\n",
    "        \n",
    "    @classmethod\n",
    "    def load(cls, path):\n",
    "        tokenizer_file = os.path.join(path, \"tokenizer.pkl\")\n",
    "\n",
    "        if not os.path.exists(path) or not os.path.exists(os.path.join(path, \"tokenizer.pkl\")):\n",
    "            raise ValueError(cls.load.__name__ + \": No tokenizer found at the specified directory\")\n",
    "\n",
    "        with open(tokenizer_file, \"rb\") as pkl_file:\n",
    "            return pickle.load(pkl_file)\n",
    "        \n",
    "    def save(self, path):\n",
    "        os.makedirs(path, exist_ok=True)\n",
    "        with open(os.path.join(path, \"tokenizer.pkl\"), 'wb') as pkl_file:\n",
    "            pickle.dump(self, pkl_file)\n",
    "            \n",
    "    \n",
    "    def train(self, corpus_path, vocab_size):\n",
    "        \n",
    "        with open(corpus_path) as f: corpus = f.read()\n",
    "        tokens = torch.tensor(list(corpus.encode('utf-8', errors='replace')), dtype=torch.int32, device=self.device)\n",
    "        \n",
    "        unique_tokens = torch.unique(tokens)\n",
    "        vocab = {token.item():i for i,token in enumerate(unique_tokens)}\n",
    "        num_merges = max(0, vocab_size - len(vocab))\n",
    "        self.merges = generate_merges(tokens, num_merges)\n",
    "        \n",
    "        n = len(vocab)\n",
    "        for i, new_token in enumerate(self.merges.values()):\n",
    "            vocab[new_token] = n + i\n",
    "        self.vocab = vocab\n",
    "        \n",
    "    def encode(self, string: str) -> torch.Tensor:\n",
    "        tokens = torch.tensor(list(string.encode(\"utf-8\", errors='replace')), dtype=torch.int32, device=self.device)\n",
    "        for pair, target in self.merges.items():\n",
    "            tokens = merge_tokens(tokens, pair, target)\n",
    "        return tokens\n",
    "    \n",
    "    def decode(self, tokens: torch.Tensor) -> str:\n",
    "        for pair, target in reversed(list(self.merges.items())):\n",
    "            tokens = unmerge_tokens(tokens, pair, target)\n",
    "        string = bytes(tokens.tolist()).decode('utf-8', errors='replace')\n",
    "        return string\n",
    "        \n",
    "        \n"
   ]
  },
  {
   "cell_type": "code",
   "execution_count": 83,
   "metadata": {},
   "outputs": [],
   "source": [
    "tokenizer = Tokenizer()\n",
    "\n",
    "tokenizer.train('/Users/sam/Desktop/github/word2vec/src/sample.txt', 100)"
   ]
  },
  {
   "cell_type": "code",
   "execution_count": 22,
   "metadata": {},
   "outputs": [
    {
     "data": {
      "text/plain": [
       "'\\x00\\x00\\x00\\x00\\x00\\x00\\x00\\x00\\x00\\x00\\x00\\x00\\x00\\x00\\x00\\x00\\x00\\x00\\x00\\x00\\x00\\x00\\x00\\x00\\x00\\x00\\x00\\x00\\x00\\x00\\x00\\x00\\x00\\x00\\x00\\x00\\x00\\x00\\x00\\x00\\x00\\x00\\x00\\x00\\x00\\x00\\x00\\x00\\x00\\x00\\x00\\x00\\x00\\x00\\x00\\x00\\x00\\x00\\x00\\x00\\x00\\x00\\x00\\x00\\x00\\x00\\x00\\x00\\x00\\x00\\x00\\x00\\x00\\x00\\x00\\x00\\x00\\x00\\x00\\x00\\x00\\x00\\x00\\x00\\x00\\x00\\x00\\x00\\x00\\x00\\x00\\x00\\x00\\x00\\x00\\x00\\x00'"
      ]
     },
     "execution_count": 22,
     "metadata": {},
     "output_type": "execute_result"
    }
   ],
   "source": [
    "bytes(97).decode('utf-8')"
   ]
  },
  {
   "cell_type": "code",
   "execution_count": 28,
   "metadata": {},
   "outputs": [
    {
     "data": {
      "text/plain": [
       "'bca'"
      ]
     },
     "execution_count": 28,
     "metadata": {},
     "output_type": "execute_result"
    }
   ],
   "source": [
    "import torch\n",
    "tokens = torch.tensor([98,99,97])\n",
    "\n",
    "string = bytes(tokens.tolist()).decode('utf-8', errors='replace')\n",
    "string"
   ]
  },
  {
   "cell_type": "code",
   "execution_count": 29,
   "metadata": {},
   "outputs": [
    {
     "data": {
      "text/plain": [
       "b'bca'"
      ]
     },
     "execution_count": 29,
     "metadata": {},
     "output_type": "execute_result"
    }
   ],
   "source": [
    "bytes(tokens.tolist())"
   ]
  },
  {
   "cell_type": "code",
   "execution_count": 30,
   "metadata": {},
   "outputs": [
    {
     "data": {
      "text/plain": [
       "163"
      ]
     },
     "execution_count": 30,
     "metadata": {},
     "output_type": "execute_result"
    }
   ],
   "source": [
    "ord('£')"
   ]
  },
  {
   "cell_type": "code",
   "execution_count": null,
   "metadata": {},
   "outputs": [],
   "source": []
  }
 ],
 "metadata": {
  "kernelspec": {
   "display_name": ".venv",
   "language": "python",
   "name": "python3"
  },
  "language_info": {
   "codemirror_mode": {
    "name": "ipython",
    "version": 3
   },
   "file_extension": ".py",
   "mimetype": "text/x-python",
   "name": "python",
   "nbconvert_exporter": "python",
   "pygments_lexer": "ipython3",
   "version": "3.12.3"
  }
 },
 "nbformat": 4,
 "nbformat_minor": 2
}
