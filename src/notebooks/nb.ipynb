{
 "cells": [
  {
   "cell_type": "code",
   "execution_count": 19,
   "metadata": {},
   "outputs": [],
   "source": [
    "import json\n",
    "import os\n",
    "import pickle"
   ]
  },
  {
   "cell_type": "code",
   "execution_count": 20,
   "metadata": {},
   "outputs": [],
   "source": [
    "corpus = '/Users/sam/Desktop/github/word2vec/lit-dataset/AUTHORS/AUTHORS/ARISTOTLE/aristotle-on-82.txt'\n",
    "with open(corpus) as f: sample_text = f.read()\n",
    "tokens_list = list(sample_text.encode('utf-8', errors='replace'))"
   ]
  },
  {
   "cell_type": "code",
   "execution_count": 21,
   "metadata": {},
   "outputs": [],
   "source": [
    "def get_token_pair_counts(tokens_list):\n",
    "    token_pair_counts = {}\n",
    "    for i in range(1,len(tokens_list)):\n",
    "        pair = (tokens_list[i-1],tokens_list[i])\n",
    "        if pair in token_pair_counts:\n",
    "            token_pair_counts[pair] += 1\n",
    "        else:\n",
    "            token_pair_counts[pair] = 1\n",
    "    return token_pair_counts"
   ]
  },
  {
   "cell_type": "code",
   "execution_count": 22,
   "metadata": {},
   "outputs": [],
   "source": [
    "def merge_tokens(tokens_list, pair, new_token):\n",
    "    i = 1\n",
    "    while i < len(tokens_list):\n",
    "        if (tokens_list[i-1], tokens_list[i]) == pair:\n",
    "            tokens_list[i-1] = new_token\n",
    "            tokens_list.pop(i)\n",
    "        else:\n",
    "            i += 1\n",
    "    return tokens_list\n"
   ]
  },
  {
   "cell_type": "code",
   "execution_count": 23,
   "metadata": {},
   "outputs": [],
   "source": [
    "def generate_merges(tokens_list, num_merges=25):\n",
    "\n",
    "    merges = {}\n",
    "    i = 256\n",
    "    count = 0\n",
    "    while count < num_merges:\n",
    "        pair_count = get_token_pair_counts(tokens_list)\n",
    "        merge_pair = sorted(pair_count.items(), reverse=True, key= lambda item : item[1])[0][0]        \n",
    "        merge_tokens(tokens_list, merge_pair, i)\n",
    "        merges[merge_pair] = i\n",
    "        i += 1\n",
    "        count += 1\n",
    "    \n",
    "    return merges\n",
    "        \n",
    "            \n",
    "    "
   ]
  },
  {
   "cell_type": "code",
   "execution_count": 24,
   "metadata": {},
   "outputs": [],
   "source": [
    "def build_vocab(corpus, num_merges):\n",
    "    with open(corpus) as f: sample_text = f.read()\n",
    "    tokens_list = list(sample_text.encode('utf-8', errors='replace'))\n",
    "    \n",
    "    vocab = {token:i for i,token in enumerate(list(set(tokens_list)))}\n",
    "    merges = generate_merges(tokens_list, num_merges)\n",
    "    \n",
    "    new_tokens = list(merges.values())\n",
    "    m = len(vocab)\n",
    "    for token in new_tokens:\n",
    "        vocab[token] = m\n",
    "        m += 1\n",
    "        \n",
    "    from paths import SOURCE\n",
    "    \n",
    "    file_name = 'vocab.pkl'\n",
    "    destination = os.path.join(SOURCE, file_name)\n",
    "    with open(destination, 'wb') as pkl_file:\n",
    "        pickle.dump(vocab, pkl_file)\n",
    "        \n",
    "    file_name = 'merges.pkl'\n",
    "    destination = os.path.join(SOURCE, file_name)\n",
    "    with open(destination, 'wb') as pkl_file:\n",
    "        pickle.dump(merges, pkl_file)\n",
    "    "
   ]
  },
  {
   "cell_type": "markdown",
   "metadata": {},
   "source": [
    "kaggle dataset download -------> make one .txt file ------> get vocab and merges file out of it---> use the as tokenisation files for NLP tasks"
   ]
  }
 ],
 "metadata": {
  "kernelspec": {
   "display_name": ".venv",
   "language": "python",
   "name": "python3"
  },
  "language_info": {
   "codemirror_mode": {
    "name": "ipython",
    "version": 3
   },
   "file_extension": ".py",
   "mimetype": "text/x-python",
   "name": "python",
   "nbconvert_exporter": "python",
   "pygments_lexer": "ipython3",
   "version": "3.12.3"
  }
 },
 "nbformat": 4,
 "nbformat_minor": 2
}
