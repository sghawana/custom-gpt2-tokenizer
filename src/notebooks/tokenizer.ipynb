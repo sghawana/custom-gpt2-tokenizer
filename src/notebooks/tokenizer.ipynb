{
 "cells": [
  {
   "cell_type": "code",
   "execution_count": null,
   "metadata": {},
   "outputs": [],
   "source": [
    "import os\n",
    "\n",
    "from paths import DATASET_DIRECTORY, SOURCE\n",
    "from corpus import generate_corpus\n",
    "\n",
    "from vocab import build_vocab\n",
    "from corpus import generate_corpus\n",
    "\n",
    "CORPUS_NAME = 'text_corpus.txt'\n",
    "NUM_MERGES = 50\n",
    "\n",
    "corpus_destination = os.path.join(SOURCE, CORPUS_NAME)\n",
    "generate_corpus(corpus_destination, CORPUS_NAME)\n",
    "build_vocab(corpus_destination, NUM_MERGES,SOURCE)"
   ]
  }
 ],
 "metadata": {
  "language_info": {
   "name": "python"
  }
 },
 "nbformat": 4,
 "nbformat_minor": 2
}
